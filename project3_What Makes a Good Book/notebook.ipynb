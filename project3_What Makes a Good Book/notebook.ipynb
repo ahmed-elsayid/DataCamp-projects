{
 "cells": [
  {
   "source": "![bookstore](bookstore.jpg)\n",
   "metadata": {},
   "id": "fc61438f-c939-4adb-9feb-f32b41be70e8",
   "cell_type": "markdown"
  },
  {
   "source": "Identifying popular products is incredibly important for e-commerce companies! Popular products generate more revenue and, therefore, play a key role in stock control.\n\nYou've been asked to support an online bookstore by building a model to predict whether a book will be popular or not. They've supplied you with an extensive dataset containing information about all books they've sold, including:\n\n* `price`\n* `popularity` (target variable)\n* `review/summary`\n* `review/text`\n* `review/helpfulness`\n* `authors`\n* `categories`\n\nYou'll need to build a model that predicts whether a book will be rated as popular or not.\n\nThey have high expectations of you, so have set a target of at least 70% accuracy! You are free to use as many features as you like, and will need to engineer new features to achieve this level of performance.",
   "metadata": {},
   "id": "405dc77e-dfb4-44c5-a686-33ed3e845da1",
   "cell_type": "markdown"
  },
  {
   "source": [
    "# Import some required packages\n",
    "import pandas as pd\n",
    "import numpy as np\n",
    "import matplotlib.pyplot as plt\n",
    "from sklearn.model_selection import train_test_split\n",
    "from sklearn.ensemble import RandomForestClassifier\n",
    "from sklearn.metrics import accuracy_score, classification_report, confusion_matrix\n",
    "from sklearn.feature_extraction.text import TfidfVectorizer\n",
    "from sklearn.pipeline import Pipeline\n",
    "from sklearn.compose import ColumnTransformer\n",
    "from sklearn.preprocessing import StandardScaler\n",
    "from sklearn.model_selection import RandomizedSearchCV\n",
    "\n",
    "# Read in the dataset\n",
    "books = pd.read_csv(\"books.csv\")\n",
    "\n",
    "# Preview the first five rows\n",
    "books.tail(5)"
   ],
   "metadata": {
    "executionCancelledAt": null,
    "executionTime": 1872,
    "lastExecutedAt": 1713956804611,
    "lastExecutedByKernel": "48247c7b-9886-40f3-8698-95b36955e041",
    "lastScheduledRunId": null,
    "lastSuccessfullyExecutedCode": "# Import some required packages\nimport pandas as pd\n\n# Read in the dataset\nbooks = pd.read_csv(\"data/books.csv\")\n\n# Preview the first five rows\nbooks.head()",
    "outputsMetadata": {
     "0": {
      "height": 550,
      "type": "dataFrame",
      "tableState": {
       "quickFilterText": ""
      }
     }
    },
    "ExecuteTime": {
     "end_time": "2025-03-28T04:13:35.508988Z",
     "start_time": "2025-03-28T04:13:32.728927Z"
    }
   },
   "id": "a8010c2d-a710-4900-931d-96cc39499b25",
   "cell_type": "code",
   "outputs": [
    {
     "data": {
      "text/plain": [
       "                                                   title  price  \\\n",
       "15714  Attack of the Deranged Mutant Killer Monster S...   7.64   \n",
       "15715                                         Book Savvy  33.99   \n",
       "15716  Organizing to Win: New Research on Union Strat...  24.95   \n",
       "15717                                    The Dharma Bums  39.95   \n",
       "15718                                           Palomino   7.99   \n",
       "\n",
       "      review/helpfulness                                    review/summary  \\\n",
       "15714                0/0                           Great for Calvin lovers   \n",
       "15715                2/2                                 literary pleasure   \n",
       "15716                3/4                  Great Book for Union Organizers!   \n",
       "15717                3/3  The Sad, Beautiful, Joyful World of Jack Kerouac   \n",
       "15718                0/0                                        \"Palomino\"   \n",
       "\n",
       "                                             review/text  \\\n",
       "15714  Bought as a Christmas gift, great book for kin...   \n",
       "15715  I thoroughly enjoyed Ms. Katona's Book Savvy. ...   \n",
       "15716  This is a good reference tool for Union Organi...   \n",
       "15717  Jack Kerouac was intensely alive and his fiery...   \n",
       "15718  This is an older novel of Danielle Steele's, a...   \n",
       "\n",
       "                                             description  \\\n",
       "15714              Online: gocomics.com/calvinandhobbes/   \n",
       "15715  Recounts the adventures of Mibs Beaumont, whos...   \n",
       "15716  As the American labour movement mobilizes for ...   \n",
       "15717  THE DHARMA BUMS appeared just one year after t...   \n",
       "15718  Samantha Taylor is shattered when her husband ...   \n",
       "\n",
       "                                                 authors  \\\n",
       "15714                                   'Bill Watterson'   \n",
       "15715                                       'Ingrid Law'   \n",
       "15716  'Kate Bronfenbrenner', 'Sheldon Friedman', 'Ri...   \n",
       "15717                                     'Jack Kerouac'   \n",
       "15718                                   'Danielle Steel'   \n",
       "\n",
       "                      categories popularity  \n",
       "15714  'Comics & Graphic Novels'  Unpopular  \n",
       "15715         'Juvenile Fiction'    Popular  \n",
       "15716     'Business & Economics'    Popular  \n",
       "15717                  'Fiction'    Popular  \n",
       "15718                  'Fiction'    Popular  "
      ],
      "text/html": [
       "<div>\n",
       "<style scoped>\n",
       "    .dataframe tbody tr th:only-of-type {\n",
       "        vertical-align: middle;\n",
       "    }\n",
       "\n",
       "    .dataframe tbody tr th {\n",
       "        vertical-align: top;\n",
       "    }\n",
       "\n",
       "    .dataframe thead th {\n",
       "        text-align: right;\n",
       "    }\n",
       "</style>\n",
       "<table border=\"1\" class=\"dataframe\">\n",
       "  <thead>\n",
       "    <tr style=\"text-align: right;\">\n",
       "      <th></th>\n",
       "      <th>title</th>\n",
       "      <th>price</th>\n",
       "      <th>review/helpfulness</th>\n",
       "      <th>review/summary</th>\n",
       "      <th>review/text</th>\n",
       "      <th>description</th>\n",
       "      <th>authors</th>\n",
       "      <th>categories</th>\n",
       "      <th>popularity</th>\n",
       "    </tr>\n",
       "  </thead>\n",
       "  <tbody>\n",
       "    <tr>\n",
       "      <th>15714</th>\n",
       "      <td>Attack of the Deranged Mutant Killer Monster S...</td>\n",
       "      <td>7.64</td>\n",
       "      <td>0/0</td>\n",
       "      <td>Great for Calvin lovers</td>\n",
       "      <td>Bought as a Christmas gift, great book for kin...</td>\n",
       "      <td>Online: gocomics.com/calvinandhobbes/</td>\n",
       "      <td>'Bill Watterson'</td>\n",
       "      <td>'Comics &amp; Graphic Novels'</td>\n",
       "      <td>Unpopular</td>\n",
       "    </tr>\n",
       "    <tr>\n",
       "      <th>15715</th>\n",
       "      <td>Book Savvy</td>\n",
       "      <td>33.99</td>\n",
       "      <td>2/2</td>\n",
       "      <td>literary pleasure</td>\n",
       "      <td>I thoroughly enjoyed Ms. Katona's Book Savvy. ...</td>\n",
       "      <td>Recounts the adventures of Mibs Beaumont, whos...</td>\n",
       "      <td>'Ingrid Law'</td>\n",
       "      <td>'Juvenile Fiction'</td>\n",
       "      <td>Popular</td>\n",
       "    </tr>\n",
       "    <tr>\n",
       "      <th>15716</th>\n",
       "      <td>Organizing to Win: New Research on Union Strat...</td>\n",
       "      <td>24.95</td>\n",
       "      <td>3/4</td>\n",
       "      <td>Great Book for Union Organizers!</td>\n",
       "      <td>This is a good reference tool for Union Organi...</td>\n",
       "      <td>As the American labour movement mobilizes for ...</td>\n",
       "      <td>'Kate Bronfenbrenner', 'Sheldon Friedman', 'Ri...</td>\n",
       "      <td>'Business &amp; Economics'</td>\n",
       "      <td>Popular</td>\n",
       "    </tr>\n",
       "    <tr>\n",
       "      <th>15717</th>\n",
       "      <td>The Dharma Bums</td>\n",
       "      <td>39.95</td>\n",
       "      <td>3/3</td>\n",
       "      <td>The Sad, Beautiful, Joyful World of Jack Kerouac</td>\n",
       "      <td>Jack Kerouac was intensely alive and his fiery...</td>\n",
       "      <td>THE DHARMA BUMS appeared just one year after t...</td>\n",
       "      <td>'Jack Kerouac'</td>\n",
       "      <td>'Fiction'</td>\n",
       "      <td>Popular</td>\n",
       "    </tr>\n",
       "    <tr>\n",
       "      <th>15718</th>\n",
       "      <td>Palomino</td>\n",
       "      <td>7.99</td>\n",
       "      <td>0/0</td>\n",
       "      <td>\"Palomino\"</td>\n",
       "      <td>This is an older novel of Danielle Steele's, a...</td>\n",
       "      <td>Samantha Taylor is shattered when her husband ...</td>\n",
       "      <td>'Danielle Steel'</td>\n",
       "      <td>'Fiction'</td>\n",
       "      <td>Popular</td>\n",
       "    </tr>\n",
       "  </tbody>\n",
       "</table>\n",
       "</div>"
      ]
     },
     "execution_count": 1,
     "metadata": {},
     "output_type": "execute_result"
    }
   ],
   "execution_count": 1
  },
  {
   "metadata": {},
   "cell_type": "markdown",
   "source": "# Exploratory Data Analysis (EDA)\n",
   "id": "cca24a6d9fd41578"
  },
  {
   "metadata": {
    "ExecuteTime": {
     "end_time": "2025-03-28T04:13:35.572287Z",
     "start_time": "2025-03-28T04:13:35.559059Z"
    }
   },
   "cell_type": "code",
   "source": [
    "# Check the shape of the dataset\n",
    "print(books.shape)\n",
    "print(\"\\n\")\n",
    "\n"
   ],
   "id": "4842a0d9b1c02e5",
   "outputs": [
    {
     "name": "stdout",
     "output_type": "stream",
     "text": [
      "(15719, 9)\n",
      "\n",
      "\n"
     ]
    }
   ],
   "execution_count": 2
  },
  {
   "metadata": {
    "ExecuteTime": {
     "end_time": "2025-03-28T04:13:35.730875Z",
     "start_time": "2025-03-28T04:13:35.717263Z"
    }
   },
   "cell_type": "code",
   "source": [
    "# Check the data types of the columns\n",
    "print(books.dtypes)\n",
    "print(\"\\n\")\n",
    "\n"
   ],
   "id": "c2c04d93efc9b09c",
   "outputs": [
    {
     "name": "stdout",
     "output_type": "stream",
     "text": [
      "title                  object\n",
      "price                 float64\n",
      "review/helpfulness     object\n",
      "review/summary         object\n",
      "review/text            object\n",
      "description            object\n",
      "authors                object\n",
      "categories             object\n",
      "popularity             object\n",
      "dtype: object\n",
      "\n",
      "\n"
     ]
    }
   ],
   "execution_count": 3
  },
  {
   "metadata": {
    "ExecuteTime": {
     "end_time": "2025-03-28T04:13:35.823927Z",
     "start_time": "2025-03-28T04:13:35.804902Z"
    }
   },
   "cell_type": "code",
   "source": [
    "# data description\n",
    "print(books.describe())\n",
    "print(\"\\n\")\n",
    "\n"
   ],
   "id": "e9e9a93357ff992",
   "outputs": [
    {
     "name": "stdout",
     "output_type": "stream",
     "text": [
      "              price\n",
      "count  15719.000000\n",
      "mean      15.862783\n",
      "std        8.464523\n",
      "min        1.000000\n",
      "25%       10.190000\n",
      "50%       13.570000\n",
      "75%       19.950000\n",
      "max       41.770000\n",
      "\n",
      "\n"
     ]
    }
   ],
   "execution_count": 4
  },
  {
   "metadata": {
    "ExecuteTime": {
     "end_time": "2025-03-28T04:13:35.935902Z",
     "start_time": "2025-03-28T04:13:35.922906Z"
    }
   },
   "cell_type": "code",
   "source": [
    "# Check for missing values\n",
    "print(books.isnull().sum())\n",
    "print(\"\\n\")"
   ],
   "id": "5e1540f744673c36",
   "outputs": [
    {
     "name": "stdout",
     "output_type": "stream",
     "text": [
      "title                 0\n",
      "price                 0\n",
      "review/helpfulness    0\n",
      "review/summary        1\n",
      "review/text           0\n",
      "description           0\n",
      "authors               0\n",
      "categories            0\n",
      "popularity            0\n",
      "dtype: int64\n",
      "\n",
      "\n"
     ]
    }
   ],
   "execution_count": 5
  },
  {
   "metadata": {
    "ExecuteTime": {
     "end_time": "2025-03-28T04:13:35.966902Z",
     "start_time": "2025-03-28T04:13:35.953903Z"
    }
   },
   "cell_type": "code",
   "source": [
    "#see if some categories are more popular than others\n",
    "books['categories'].value_counts()\n"
   ],
   "id": "c9e455dd732e0d3c",
   "outputs": [
    {
     "data": {
      "text/plain": [
       "categories\n",
       "'Fiction'                      3520\n",
       "'Religion'                     1053\n",
       "'Biography & Autobiography'     852\n",
       "'Juvenile Fiction'              815\n",
       "'History'                       754\n",
       "                               ... \n",
       "'Sunflowers'                      1\n",
       "'Self-confidence'                 1\n",
       "'United States'                   1\n",
       "'Note-taking'                     1\n",
       "'Asthma'                          1\n",
       "Name: count, Length: 313, dtype: int64"
      ]
     },
     "execution_count": 6,
     "metadata": {},
     "output_type": "execute_result"
    }
   ],
   "execution_count": 6
  },
  {
   "metadata": {
    "ExecuteTime": {
     "end_time": "2025-03-28T04:13:36.046901Z",
     "start_time": "2025-03-28T04:13:36.032902Z"
    }
   },
   "cell_type": "code",
   "source": [
    "#see if some authors are more popular than others\n",
    "books['authors'].value_counts()"
   ],
   "id": "9dafec952414ed85",
   "outputs": [
    {
     "data": {
      "text/plain": [
       "authors\n",
       "'Charles Dickens'                                                                                        109\n",
       "'Christopher Paolini'                                                                                     90\n",
       "'Thomas Harris'                                                                                           85\n",
       "'Charlotte Brontë', 'Marc Cactus'                                                                         70\n",
       "'Charlotte Brontë'                                                                                        51\n",
       "                                                                                                        ... \n",
       "'Gilbert Morris'                                                                                           1\n",
       "'John Hick'                                                                                                1\n",
       "'Ira Flatow'                                                                                               1\n",
       "'Sam Deep', 'Lyle Sussman'                                                                                 1\n",
       "'Kate Bronfenbrenner', 'Sheldon Friedman', 'Richard W. Hurd', 'Rudolph A. Oswald', 'Ronald L. Seeber'      1\n",
       "Name: count, Length: 6447, dtype: int64"
      ]
     },
     "execution_count": 7,
     "metadata": {},
     "output_type": "execute_result"
    }
   ],
   "execution_count": 7
  },
  {
   "metadata": {
    "ExecuteTime": {
     "end_time": "2025-03-28T04:13:36.126900Z",
     "start_time": "2025-03-28T04:13:36.099902Z"
    }
   },
   "cell_type": "code",
   "source": [
    "#see each author's number of popular books\n",
    "books[books['popularity']=='Popular']['authors'].value_counts()\n",
    "\n"
   ],
   "id": "39656328ca340183",
   "outputs": [
    {
     "data": {
      "text/plain": [
       "authors\n",
       "'Charles Dickens'                             36\n",
       "'Charlotte Brontë', 'Marc Cactus'             27\n",
       "'Charlotte Brontë'                            25\n",
       "'Gary Chapman'                                25\n",
       "'Michael Shaara'                              20\n",
       "                                              ..\n",
       "'Shana Pate'                                   1\n",
       "'Lynn Kurland'                                 1\n",
       "'Hattie Mae Clark'                             1\n",
       "'Wm. Briggs and Company', 'Marion Nichols'     1\n",
       "'Danielle Steel'                               1\n",
       "Name: count, Length: 3418, dtype: int64"
      ]
     },
     "execution_count": 8,
     "metadata": {},
     "output_type": "execute_result"
    }
   ],
   "execution_count": 8
  },
  {
   "metadata": {},
   "cell_type": "markdown",
   "source": "# Data Preprocessing\n",
   "id": "f45bc2c33c9c92b2"
  },
  {
   "metadata": {
    "ExecuteTime": {
     "end_time": "2025-03-28T04:13:36.268901Z",
     "start_time": "2025-03-28T04:13:36.253903Z"
    }
   },
   "cell_type": "code",
   "source": [
    "# Drop the columns we don't need\n",
    "books = books.drop(['review/text', 'title','description'], axis=1)\n"
   ],
   "id": "70c8ec53a8d8112c",
   "outputs": [],
   "execution_count": 9
  },
  {
   "metadata": {
    "ExecuteTime": {
     "end_time": "2025-03-28T04:13:36.380901Z",
     "start_time": "2025-03-28T04:13:36.366902Z"
    }
   },
   "cell_type": "code",
   "source": [
    "# Check for missing values\n",
    "print(books.isnull().sum())"
   ],
   "id": "b01403085ce13849",
   "outputs": [
    {
     "name": "stdout",
     "output_type": "stream",
     "text": [
      "price                 0\n",
      "review/helpfulness    0\n",
      "review/summary        1\n",
      "authors               0\n",
      "categories            0\n",
      "popularity            0\n",
      "dtype: int64\n"
     ]
    }
   ],
   "execution_count": 10
  },
  {
   "metadata": {
    "ExecuteTime": {
     "end_time": "2025-03-28T04:13:36.523935Z",
     "start_time": "2025-03-28T04:13:36.508902Z"
    }
   },
   "cell_type": "code",
   "source": [
    "# Drop missing values\n",
    "books = books.dropna()\n",
    "\n",
    "# Check for missing values\n",
    "print(books.isnull().sum())"
   ],
   "id": "969b9aa9e97542a4",
   "outputs": [
    {
     "name": "stdout",
     "output_type": "stream",
     "text": [
      "price                 0\n",
      "review/helpfulness    0\n",
      "review/summary        0\n",
      "authors               0\n",
      "categories            0\n",
      "popularity            0\n",
      "dtype: int64\n"
     ]
    }
   ],
   "execution_count": 11
  },
  {
   "metadata": {},
   "cell_type": "markdown",
   "source": "### fix the numerical columns\n",
   "id": "c4ff6ada0612c23d"
  },
  {
   "metadata": {
    "ExecuteTime": {
     "end_time": "2025-03-28T04:13:36.587902Z",
     "start_time": "2025-03-28T04:13:36.557903Z"
    }
   },
   "cell_type": "code",
   "source": [
    "#first make the review/helpfulness column tow separate columns\n",
    "books['review'] = books['review/helpfulness'].apply(lambda x: x.split('/')[0]).astype('int')\n",
    "books['helpfulness'] = books['review/helpfulness'].apply(lambda x: x.split('/')[1]).astype('int')\n",
    "#remove the review/helpfulness column\n"
   ],
   "id": "3a4e606e87af3084",
   "outputs": [],
   "execution_count": 12
  },
  {
   "metadata": {},
   "cell_type": "markdown",
   "source": "## fix the categorical columns",
   "id": "d0f9758af12d7608"
  },
  {
   "metadata": {
    "ExecuteTime": {
     "end_time": "2025-03-28T04:13:36.649901Z",
     "start_time": "2025-03-28T04:13:36.635903Z"
    }
   },
   "cell_type": "code",
   "source": [
    "#remove all special characters from the review/summary column\n",
    "books['review/summary'] = books['review/summary'].str.replace('[^a-zA-Z]', ' ')"
   ],
   "id": "97b6990fddd696eb",
   "outputs": [],
   "execution_count": 13
  },
  {
   "metadata": {
    "ExecuteTime": {
     "end_time": "2025-03-28T04:13:36.697904Z",
     "start_time": "2025-03-28T04:13:36.667902Z"
    }
   },
   "cell_type": "code",
   "source": [
    "#turn popular to 1 and not popular to 0\n",
    "books['popularity'] = books['popularity'].apply(lambda x: 1 if x == 'Popular' else 0)"
   ],
   "id": "6f03c2d16b288fdf",
   "outputs": [],
   "execution_count": 14
  },
  {
   "metadata": {
    "ExecuteTime": {
     "end_time": "2025-03-28T04:13:36.729905Z",
     "start_time": "2025-03-28T04:13:36.714902Z"
    }
   },
   "cell_type": "code",
   "source": [
    "#replaces each category with the mean popularity of books in that category\n",
    "books['categories_encoded'] = books.groupby('categories')['popularity'].transform('mean')\n",
    "\n",
    "#replaces each author with the mean popularity of books by that author\n",
    "books['authors_encoded'] = books.groupby('authors')['popularity'].transform('mean')\n"
   ],
   "id": "7e90db93909c037d",
   "outputs": [],
   "execution_count": 15
  },
  {
   "metadata": {},
   "cell_type": "markdown",
   "source": "## fix the text columns",
   "id": "798729beda9ae6e9"
  },
  {
   "metadata": {
    "ExecuteTime": {
     "end_time": "2025-03-28T04:13:36.855902Z",
     "start_time": "2025-03-28T04:13:36.747902Z"
    }
   },
   "cell_type": "code",
   "source": [
    "# Create a TfidfVectorizer object\n",
    "tfidf = TfidfVectorizer(stop_words='english', max_features=100)\n",
    "summary_tfidf = tfidf.fit_transform(books['review/summary']).toarray()\n",
    "summary_tfidf = pd.DataFrame(summary_tfidf, columns=tfidf.get_feature_names_out())\n"
   ],
   "id": "5d05fdc5de9b9bf3",
   "outputs": [],
   "execution_count": 16
  },
  {
   "metadata": {
    "ExecuteTime": {
     "end_time": "2025-03-28T04:13:36.902958Z",
     "start_time": "2025-03-28T04:13:36.888902Z"
    }
   },
   "cell_type": "code",
   "source": [
    "# Concatenate the original DataFrame with the summary_tfidf DataFrame\n",
    "books = pd.concat([books, summary_tfidf], axis=1)"
   ],
   "id": "aa3a36cc5fc8ea6c",
   "outputs": [],
   "execution_count": 17
  },
  {
   "metadata": {
    "ExecuteTime": {
     "end_time": "2025-03-28T04:13:36.950257Z",
     "start_time": "2025-03-28T04:13:36.936238Z"
    }
   },
   "cell_type": "code",
   "source": [
    "# Check for missing values\n",
    "print(books.isnull().sum())"
   ],
   "id": "66832ad5c9e4fab5",
   "outputs": [
    {
     "name": "stdout",
     "output_type": "stream",
     "text": [
      "price                 1\n",
      "review/helpfulness    1\n",
      "review/summary        1\n",
      "authors               1\n",
      "categories            1\n",
      "                     ..\n",
      "world                 1\n",
      "worth                 1\n",
      "wow                   1\n",
      "writing               1\n",
      "written               1\n",
      "Length: 110, dtype: int64\n"
     ]
    }
   ],
   "execution_count": 18
  },
  {
   "metadata": {
    "ExecuteTime": {
     "end_time": "2025-03-28T04:13:37.013383Z",
     "start_time": "2025-03-28T04:13:36.984385Z"
    }
   },
   "cell_type": "code",
   "source": [
    "#drop the missing values\n",
    "books.dropna(inplace=True)"
   ],
   "id": "2c42fed6a5e2c546",
   "outputs": [],
   "execution_count": 19
  },
  {
   "metadata": {},
   "cell_type": "markdown",
   "source": "## Split the data into training and testing sets",
   "id": "2aa687b78cd431da"
  },
  {
   "metadata": {
    "ExecuteTime": {
     "end_time": "2025-03-28T04:13:37.060382Z",
     "start_time": "2025-03-28T04:13:37.046383Z"
    }
   },
   "cell_type": "code",
   "source": [
    "#drop the columns we don't need\n",
    "books.drop(['review/helpfulness', 'review/summary', 'authors', 'categories'], axis=1, inplace=True)"
   ],
   "id": "3559d3a1a90aef6e",
   "outputs": [],
   "execution_count": 20
  },
  {
   "metadata": {
    "ExecuteTime": {
     "end_time": "2025-03-28T04:13:37.154384Z",
     "start_time": "2025-03-28T04:13:37.094385Z"
    }
   },
   "cell_type": "code",
   "source": "books",
   "id": "3753707fd4db3a6b",
   "outputs": [
    {
     "data": {
      "text/plain": [
       "       price  popularity  review  helpfulness  categories_encoded  \\\n",
       "0      10.88         0.0     2.0          3.0            0.327586   \n",
       "1       9.35         0.0     0.0          0.0            0.356125   \n",
       "2      24.95         0.0    17.0         19.0            0.436111   \n",
       "3       7.99         0.0     0.0          1.0            0.327801   \n",
       "4      32.50         0.0    18.0         20.0            0.385965   \n",
       "...      ...         ...     ...          ...                 ...   \n",
       "15713  31.63         1.0     5.0          5.0            0.332160   \n",
       "15714   7.64         0.0     0.0          0.0            0.318182   \n",
       "15715  33.99         1.0     2.0          2.0            0.356265   \n",
       "15716  24.95         1.0     3.0          4.0            0.352192   \n",
       "15717  39.95         1.0     3.0          3.0            0.265625   \n",
       "\n",
       "       authors_encoded  advice  amazing  american  author  ...  way  woman  \\\n",
       "0             0.375000     0.0      0.0       0.0     0.0  ...  0.0    0.0   \n",
       "1             0.000000     0.0      0.0       0.0     0.0  ...  0.0    0.0   \n",
       "2             0.000000     0.0      0.0       0.0     0.0  ...  0.0    0.0   \n",
       "3             0.000000     0.0      0.0       0.0     0.0  ...  0.0    0.0   \n",
       "4             0.000000     0.0      0.0       0.0     0.0  ...  0.0    0.0   \n",
       "...                ...     ...      ...       ...     ...  ...  ...    ...   \n",
       "15713         0.482759     0.0      0.0       0.0     0.0  ...  0.0    0.0   \n",
       "15714         0.500000     0.0      0.0       0.0     0.0  ...  0.0    0.0   \n",
       "15715         1.000000     0.0      0.0       0.0     0.0  ...  0.0    0.0   \n",
       "15716         1.000000     0.0      0.0       0.0     0.0  ...  0.0    0.0   \n",
       "15717         0.428571     0.0      0.0       0.0     0.0  ...  0.0    0.0   \n",
       "\n",
       "         women  wonderful  work     world  worth  wow  writing  written  \n",
       "0      0.81776        0.0   0.0  0.000000    0.0  0.0      0.0      0.0  \n",
       "1      0.00000        0.0   0.0  0.000000    0.0  0.0      0.0      0.0  \n",
       "2      0.00000        0.0   0.0  0.000000    0.0  0.0      0.0      0.0  \n",
       "3      0.00000        0.0   0.0  0.000000    0.0  0.0      0.0      0.0  \n",
       "4      0.00000        0.0   0.0  0.000000    0.0  0.0      0.0      0.0  \n",
       "...        ...        ...   ...       ...    ...  ...      ...      ...  \n",
       "15713  0.00000        0.0   0.0  0.000000    0.0  0.0      0.0      0.0  \n",
       "15714  0.00000        0.0   0.0  0.000000    0.0  0.0      0.0      0.0  \n",
       "15715  0.00000        0.0   0.0  0.000000    0.0  0.0      0.0      0.0  \n",
       "15716  0.00000        0.0   0.0  0.728368    0.0  0.0      0.0      0.0  \n",
       "15717  0.00000        0.0   0.0  0.000000    0.0  0.0      0.0      0.0  \n",
       "\n",
       "[15717 rows x 106 columns]"
      ],
      "text/html": [
       "<div>\n",
       "<style scoped>\n",
       "    .dataframe tbody tr th:only-of-type {\n",
       "        vertical-align: middle;\n",
       "    }\n",
       "\n",
       "    .dataframe tbody tr th {\n",
       "        vertical-align: top;\n",
       "    }\n",
       "\n",
       "    .dataframe thead th {\n",
       "        text-align: right;\n",
       "    }\n",
       "</style>\n",
       "<table border=\"1\" class=\"dataframe\">\n",
       "  <thead>\n",
       "    <tr style=\"text-align: right;\">\n",
       "      <th></th>\n",
       "      <th>price</th>\n",
       "      <th>popularity</th>\n",
       "      <th>review</th>\n",
       "      <th>helpfulness</th>\n",
       "      <th>categories_encoded</th>\n",
       "      <th>authors_encoded</th>\n",
       "      <th>advice</th>\n",
       "      <th>amazing</th>\n",
       "      <th>american</th>\n",
       "      <th>author</th>\n",
       "      <th>...</th>\n",
       "      <th>way</th>\n",
       "      <th>woman</th>\n",
       "      <th>women</th>\n",
       "      <th>wonderful</th>\n",
       "      <th>work</th>\n",
       "      <th>world</th>\n",
       "      <th>worth</th>\n",
       "      <th>wow</th>\n",
       "      <th>writing</th>\n",
       "      <th>written</th>\n",
       "    </tr>\n",
       "  </thead>\n",
       "  <tbody>\n",
       "    <tr>\n",
       "      <th>0</th>\n",
       "      <td>10.88</td>\n",
       "      <td>0.0</td>\n",
       "      <td>2.0</td>\n",
       "      <td>3.0</td>\n",
       "      <td>0.327586</td>\n",
       "      <td>0.375000</td>\n",
       "      <td>0.0</td>\n",
       "      <td>0.0</td>\n",
       "      <td>0.0</td>\n",
       "      <td>0.0</td>\n",
       "      <td>...</td>\n",
       "      <td>0.0</td>\n",
       "      <td>0.0</td>\n",
       "      <td>0.81776</td>\n",
       "      <td>0.0</td>\n",
       "      <td>0.0</td>\n",
       "      <td>0.000000</td>\n",
       "      <td>0.0</td>\n",
       "      <td>0.0</td>\n",
       "      <td>0.0</td>\n",
       "      <td>0.0</td>\n",
       "    </tr>\n",
       "    <tr>\n",
       "      <th>1</th>\n",
       "      <td>9.35</td>\n",
       "      <td>0.0</td>\n",
       "      <td>0.0</td>\n",
       "      <td>0.0</td>\n",
       "      <td>0.356125</td>\n",
       "      <td>0.000000</td>\n",
       "      <td>0.0</td>\n",
       "      <td>0.0</td>\n",
       "      <td>0.0</td>\n",
       "      <td>0.0</td>\n",
       "      <td>...</td>\n",
       "      <td>0.0</td>\n",
       "      <td>0.0</td>\n",
       "      <td>0.00000</td>\n",
       "      <td>0.0</td>\n",
       "      <td>0.0</td>\n",
       "      <td>0.000000</td>\n",
       "      <td>0.0</td>\n",
       "      <td>0.0</td>\n",
       "      <td>0.0</td>\n",
       "      <td>0.0</td>\n",
       "    </tr>\n",
       "    <tr>\n",
       "      <th>2</th>\n",
       "      <td>24.95</td>\n",
       "      <td>0.0</td>\n",
       "      <td>17.0</td>\n",
       "      <td>19.0</td>\n",
       "      <td>0.436111</td>\n",
       "      <td>0.000000</td>\n",
       "      <td>0.0</td>\n",
       "      <td>0.0</td>\n",
       "      <td>0.0</td>\n",
       "      <td>0.0</td>\n",
       "      <td>...</td>\n",
       "      <td>0.0</td>\n",
       "      <td>0.0</td>\n",
       "      <td>0.00000</td>\n",
       "      <td>0.0</td>\n",
       "      <td>0.0</td>\n",
       "      <td>0.000000</td>\n",
       "      <td>0.0</td>\n",
       "      <td>0.0</td>\n",
       "      <td>0.0</td>\n",
       "      <td>0.0</td>\n",
       "    </tr>\n",
       "    <tr>\n",
       "      <th>3</th>\n",
       "      <td>7.99</td>\n",
       "      <td>0.0</td>\n",
       "      <td>0.0</td>\n",
       "      <td>1.0</td>\n",
       "      <td>0.327801</td>\n",
       "      <td>0.000000</td>\n",
       "      <td>0.0</td>\n",
       "      <td>0.0</td>\n",
       "      <td>0.0</td>\n",
       "      <td>0.0</td>\n",
       "      <td>...</td>\n",
       "      <td>0.0</td>\n",
       "      <td>0.0</td>\n",
       "      <td>0.00000</td>\n",
       "      <td>0.0</td>\n",
       "      <td>0.0</td>\n",
       "      <td>0.000000</td>\n",
       "      <td>0.0</td>\n",
       "      <td>0.0</td>\n",
       "      <td>0.0</td>\n",
       "      <td>0.0</td>\n",
       "    </tr>\n",
       "    <tr>\n",
       "      <th>4</th>\n",
       "      <td>32.50</td>\n",
       "      <td>0.0</td>\n",
       "      <td>18.0</td>\n",
       "      <td>20.0</td>\n",
       "      <td>0.385965</td>\n",
       "      <td>0.000000</td>\n",
       "      <td>0.0</td>\n",
       "      <td>0.0</td>\n",
       "      <td>0.0</td>\n",
       "      <td>0.0</td>\n",
       "      <td>...</td>\n",
       "      <td>0.0</td>\n",
       "      <td>0.0</td>\n",
       "      <td>0.00000</td>\n",
       "      <td>0.0</td>\n",
       "      <td>0.0</td>\n",
       "      <td>0.000000</td>\n",
       "      <td>0.0</td>\n",
       "      <td>0.0</td>\n",
       "      <td>0.0</td>\n",
       "      <td>0.0</td>\n",
       "    </tr>\n",
       "    <tr>\n",
       "      <th>...</th>\n",
       "      <td>...</td>\n",
       "      <td>...</td>\n",
       "      <td>...</td>\n",
       "      <td>...</td>\n",
       "      <td>...</td>\n",
       "      <td>...</td>\n",
       "      <td>...</td>\n",
       "      <td>...</td>\n",
       "      <td>...</td>\n",
       "      <td>...</td>\n",
       "      <td>...</td>\n",
       "      <td>...</td>\n",
       "      <td>...</td>\n",
       "      <td>...</td>\n",
       "      <td>...</td>\n",
       "      <td>...</td>\n",
       "      <td>...</td>\n",
       "      <td>...</td>\n",
       "      <td>...</td>\n",
       "      <td>...</td>\n",
       "      <td>...</td>\n",
       "    </tr>\n",
       "    <tr>\n",
       "      <th>15713</th>\n",
       "      <td>31.63</td>\n",
       "      <td>1.0</td>\n",
       "      <td>5.0</td>\n",
       "      <td>5.0</td>\n",
       "      <td>0.332160</td>\n",
       "      <td>0.482759</td>\n",
       "      <td>0.0</td>\n",
       "      <td>0.0</td>\n",
       "      <td>0.0</td>\n",
       "      <td>0.0</td>\n",
       "      <td>...</td>\n",
       "      <td>0.0</td>\n",
       "      <td>0.0</td>\n",
       "      <td>0.00000</td>\n",
       "      <td>0.0</td>\n",
       "      <td>0.0</td>\n",
       "      <td>0.000000</td>\n",
       "      <td>0.0</td>\n",
       "      <td>0.0</td>\n",
       "      <td>0.0</td>\n",
       "      <td>0.0</td>\n",
       "    </tr>\n",
       "    <tr>\n",
       "      <th>15714</th>\n",
       "      <td>7.64</td>\n",
       "      <td>0.0</td>\n",
       "      <td>0.0</td>\n",
       "      <td>0.0</td>\n",
       "      <td>0.318182</td>\n",
       "      <td>0.500000</td>\n",
       "      <td>0.0</td>\n",
       "      <td>0.0</td>\n",
       "      <td>0.0</td>\n",
       "      <td>0.0</td>\n",
       "      <td>...</td>\n",
       "      <td>0.0</td>\n",
       "      <td>0.0</td>\n",
       "      <td>0.00000</td>\n",
       "      <td>0.0</td>\n",
       "      <td>0.0</td>\n",
       "      <td>0.000000</td>\n",
       "      <td>0.0</td>\n",
       "      <td>0.0</td>\n",
       "      <td>0.0</td>\n",
       "      <td>0.0</td>\n",
       "    </tr>\n",
       "    <tr>\n",
       "      <th>15715</th>\n",
       "      <td>33.99</td>\n",
       "      <td>1.0</td>\n",
       "      <td>2.0</td>\n",
       "      <td>2.0</td>\n",
       "      <td>0.356265</td>\n",
       "      <td>1.000000</td>\n",
       "      <td>0.0</td>\n",
       "      <td>0.0</td>\n",
       "      <td>0.0</td>\n",
       "      <td>0.0</td>\n",
       "      <td>...</td>\n",
       "      <td>0.0</td>\n",
       "      <td>0.0</td>\n",
       "      <td>0.00000</td>\n",
       "      <td>0.0</td>\n",
       "      <td>0.0</td>\n",
       "      <td>0.000000</td>\n",
       "      <td>0.0</td>\n",
       "      <td>0.0</td>\n",
       "      <td>0.0</td>\n",
       "      <td>0.0</td>\n",
       "    </tr>\n",
       "    <tr>\n",
       "      <th>15716</th>\n",
       "      <td>24.95</td>\n",
       "      <td>1.0</td>\n",
       "      <td>3.0</td>\n",
       "      <td>4.0</td>\n",
       "      <td>0.352192</td>\n",
       "      <td>1.000000</td>\n",
       "      <td>0.0</td>\n",
       "      <td>0.0</td>\n",
       "      <td>0.0</td>\n",
       "      <td>0.0</td>\n",
       "      <td>...</td>\n",
       "      <td>0.0</td>\n",
       "      <td>0.0</td>\n",
       "      <td>0.00000</td>\n",
       "      <td>0.0</td>\n",
       "      <td>0.0</td>\n",
       "      <td>0.728368</td>\n",
       "      <td>0.0</td>\n",
       "      <td>0.0</td>\n",
       "      <td>0.0</td>\n",
       "      <td>0.0</td>\n",
       "    </tr>\n",
       "    <tr>\n",
       "      <th>15717</th>\n",
       "      <td>39.95</td>\n",
       "      <td>1.0</td>\n",
       "      <td>3.0</td>\n",
       "      <td>3.0</td>\n",
       "      <td>0.265625</td>\n",
       "      <td>0.428571</td>\n",
       "      <td>0.0</td>\n",
       "      <td>0.0</td>\n",
       "      <td>0.0</td>\n",
       "      <td>0.0</td>\n",
       "      <td>...</td>\n",
       "      <td>0.0</td>\n",
       "      <td>0.0</td>\n",
       "      <td>0.00000</td>\n",
       "      <td>0.0</td>\n",
       "      <td>0.0</td>\n",
       "      <td>0.000000</td>\n",
       "      <td>0.0</td>\n",
       "      <td>0.0</td>\n",
       "      <td>0.0</td>\n",
       "      <td>0.0</td>\n",
       "    </tr>\n",
       "  </tbody>\n",
       "</table>\n",
       "<p>15717 rows × 106 columns</p>\n",
       "</div>"
      ]
     },
     "execution_count": 21,
     "metadata": {},
     "output_type": "execute_result"
    }
   ],
   "execution_count": 21
  },
  {
   "metadata": {},
   "cell_type": "markdown",
   "source": "",
   "id": "309ce04cef769da"
  },
  {
   "metadata": {
    "ExecuteTime": {
     "end_time": "2025-03-28T04:13:37.325383Z",
     "start_time": "2025-03-28T04:13:37.294383Z"
    }
   },
   "cell_type": "code",
   "source": [
    "# Split the data into training and testing sets\n",
    "X = books.drop('popularity', axis=1)\n",
    "y = books['popularity']\n",
    "\n",
    "X_train, X_test, y_train, y_test = train_test_split(X, y, test_size=0.2, random_state=42)\n",
    "#reshape the target variable\n",
    "y_train = y_train.values.reshape(-1, 1)\n",
    "y_test = y_test.values.reshape(-1, 1)\n",
    "# Check the shape of the training and testing sets\n",
    "print(X_train.shape)\n",
    "print(X_test.shape)\n",
    "print(y_train.shape)\n",
    "print(y_test.shape)\n",
    "\n"
   ],
   "id": "8722d007807346e8",
   "outputs": [
    {
     "name": "stdout",
     "output_type": "stream",
     "text": [
      "(12573, 105)\n",
      "(3144, 105)\n",
      "(12573, 1)\n",
      "(3144, 1)\n"
     ]
    }
   ],
   "execution_count": 22
  },
  {
   "metadata": {},
   "cell_type": "markdown",
   "source": "",
   "id": "6b6e4925dc31b5f2"
  },
  {
   "metadata": {
    "ExecuteTime": {
     "end_time": "2025-03-28T04:13:37.389385Z",
     "start_time": "2025-03-28T04:13:37.375384Z"
    }
   },
   "cell_type": "code",
   "source": "books.isnull().sum()",
   "id": "381514aa2a3dc9b7",
   "outputs": [
    {
     "data": {
      "text/plain": [
       "price                 0\n",
       "popularity            0\n",
       "review                0\n",
       "helpfulness           0\n",
       "categories_encoded    0\n",
       "                     ..\n",
       "world                 0\n",
       "worth                 0\n",
       "wow                   0\n",
       "writing               0\n",
       "written               0\n",
       "Length: 106, dtype: int64"
      ]
     },
     "execution_count": 23,
     "metadata": {},
     "output_type": "execute_result"
    }
   ],
   "execution_count": 23
  },
  {
   "metadata": {},
   "cell_type": "markdown",
   "source": "## scale the data",
   "id": "7abdb4e91c1635e7"
  },
  {
   "metadata": {
    "ExecuteTime": {
     "end_time": "2025-03-28T04:13:37.750383Z",
     "start_time": "2025-03-28T04:13:37.690384Z"
    }
   },
   "cell_type": "code",
   "source": [
    "# Create standard scaler object\n",
    "scaler = StandardScaler()\n",
    "\n",
    "# Fit the scaler to the training data and transform\n",
    "X_train_scaled = scaler.fit_transform(X_train)\n",
    "\n",
    "# Transform the testing data\n",
    "X_test_scaled = scaler.transform(X_test)\n",
    "\n",
    "# Check the shape of the scaled data\n",
    "print(X_train_scaled.shape)"
   ],
   "id": "e5989a5c1ba7fb6f",
   "outputs": [
    {
     "name": "stdout",
     "output_type": "stream",
     "text": [
      "(12573, 105)\n"
     ]
    }
   ],
   "execution_count": 24
  },
  {
   "metadata": {},
   "cell_type": "markdown",
   "source": "## Train the model and tune the hyperparameters using RandomizedSearchCV",
   "id": "eba241ecdb7b154f"
  },
  {
   "metadata": {
    "ExecuteTime": {
     "end_time": "2025-03-28T04:13:37.925384Z",
     "start_time": "2025-03-28T04:13:37.912385Z"
    }
   },
   "cell_type": "code",
   "source": [
    "# Create a Random Forest Classifier\n",
    "classifier = RandomForestClassifier()"
   ],
   "id": "1ad388a1f724f7a7",
   "outputs": [],
   "execution_count": 25
  },
  {
   "metadata": {
    "ExecuteTime": {
     "end_time": "2025-03-28T04:13:38.002387Z",
     "start_time": "2025-03-28T04:13:37.994384Z"
    }
   },
   "cell_type": "code",
   "source": [
    "#use RandomizedSearchCV to find the best hyperparameters\n",
    "param_distributions = {\n",
    "    'n_estimators': np.arange(10, 100, 5),\n",
    "    'max_depth': [None, 3, 5, 10, 15],\n",
    "    'min_samples_split': np.arange(2, 20, 2),\n",
    "    'min_samples_leaf': np.arange(1, 20, 2),\n",
    "    'max_features': ['auto', 'sqrt', 'log2'],\n",
    "    'criterion': ['gini', 'entropy']\n",
    "}\n",
    "\n",
    "\n",
    "\n",
    "\n",
    "search = RandomizedSearchCV(\n",
    "    classifier,\n",
    "    param_distributions=param_distributions,\n",
    "    n_iter=50,\n",
    "    cv=5,\n",
    "    scoring='accuracy',\n",
    "    verbose=10,\n",
    "    n_jobs=-1\n",
    ")"
   ],
   "id": "4cfc5919c07a6536",
   "outputs": [],
   "execution_count": 26
  },
  {
   "metadata": {
    "ExecuteTime": {
     "end_time": "2025-03-28T04:13:57.164933Z",
     "start_time": "2025-03-28T04:13:38.302383Z"
    }
   },
   "cell_type": "code",
   "source": "search.fit(X_train, y_train)",
   "id": "8de423360c79a876",
   "outputs": [
    {
     "name": "stdout",
     "output_type": "stream",
     "text": [
      "Fitting 5 folds for each of 50 candidates, totalling 250 fits\n"
     ]
    },
    {
     "name": "stderr",
     "output_type": "stream",
    },
    {
     "data": {
      "text/plain": [
       "RandomizedSearchCV(cv=5, estimator=RandomForestClassifier(), n_iter=50,\n",
       "                   n_jobs=-1,\n",
       "                   param_distributions={'criterion': ['gini', 'entropy'],\n",
       "                                        'max_depth': [None, 3, 5, 10, 15],\n",
       "                                        'max_features': ['auto', 'sqrt',\n",
       "                                                         'log2'],\n",
       "                                        'min_samples_leaf': array([ 1,  3,  5,  7,  9, 11, 13, 15, 17, 19]),\n",
       "                                        'min_samples_split': array([ 2,  4,  6,  8, 10, 12, 14, 16, 18]),\n",
       "                                        'n_estimators': array([10, 15, 20, 25, 30, 35, 40, 45, 50, 55, 60, 65, 70, 75, 80, 85, 90,\n",
       "       95])},\n",
       "                   scoring='accuracy', verbose=10)"
      ],
      "text/html": [
       "<style>#sk-container-id-1 {\n",
       "  /* Definition of color scheme common for light and dark mode */\n",
       "  --sklearn-color-text: #000;\n",
       "  --sklearn-color-text-muted: #666;\n",
       "  --sklearn-color-line: gray;\n",
       "  /* Definition of color scheme for unfitted estimators */\n",
       "  --sklearn-color-unfitted-level-0: #fff5e6;\n",
       "  --sklearn-color-unfitted-level-1: #f6e4d2;\n",
       "  --sklearn-color-unfitted-level-2: #ffe0b3;\n",
       "  --sklearn-color-unfitted-level-3: chocolate;\n",
       "  /* Definition of color scheme for fitted estimators */\n",
       "  --sklearn-color-fitted-level-0: #f0f8ff;\n",
       "  --sklearn-color-fitted-level-1: #d4ebff;\n",
       "  --sklearn-color-fitted-level-2: #b3dbfd;\n",
       "  --sklearn-color-fitted-level-3: cornflowerblue;\n",
       "\n",
       "  /* Specific color for light theme */\n",
       "  --sklearn-color-text-on-default-background: var(--sg-text-color, var(--theme-code-foreground, var(--jp-content-font-color1, black)));\n",
       "  --sklearn-color-background: var(--sg-background-color, var(--theme-background, var(--jp-layout-color0, white)));\n",
       "  --sklearn-color-border-box: var(--sg-text-color, var(--theme-code-foreground, var(--jp-content-font-color1, black)));\n",
       "  --sklearn-color-icon: #696969;\n",
       "\n",
       "  @media (prefers-color-scheme: dark) {\n",
       "    /* Redefinition of color scheme for dark theme */\n",
       "    --sklearn-color-text-on-default-background: var(--sg-text-color, var(--theme-code-foreground, var(--jp-content-font-color1, white)));\n",
       "    --sklearn-color-background: var(--sg-background-color, var(--theme-background, var(--jp-layout-color0, #111)));\n",
       "    --sklearn-color-border-box: var(--sg-text-color, var(--theme-code-foreground, var(--jp-content-font-color1, white)));\n",
       "    --sklearn-color-icon: #878787;\n",
       "  }\n",
       "}\n",
       "\n",
       "#sk-container-id-1 {\n",
       "  color: var(--sklearn-color-text);\n",
       "}\n",
       "\n",
       "#sk-container-id-1 pre {\n",
       "  padding: 0;\n",
       "}\n",
       "\n",
       "#sk-container-id-1 input.sk-hidden--visually {\n",
       "  border: 0;\n",
       "  clip: rect(1px 1px 1px 1px);\n",
       "  clip: rect(1px, 1px, 1px, 1px);\n",
       "  height: 1px;\n",
       "  margin: -1px;\n",
       "  overflow: hidden;\n",
       "  padding: 0;\n",
       "  position: absolute;\n",
       "  width: 1px;\n",
       "}\n",
       "\n",
       "#sk-container-id-1 div.sk-dashed-wrapped {\n",
       "  border: 1px dashed var(--sklearn-color-line);\n",
       "  margin: 0 0.4em 0.5em 0.4em;\n",
       "  box-sizing: border-box;\n",
       "  padding-bottom: 0.4em;\n",
       "  background-color: var(--sklearn-color-background);\n",
       "}\n",
       "\n",
       "#sk-container-id-1 div.sk-container {\n",
       "  /* jupyter's `normalize.less` sets `[hidden] { display: none; }`\n",
       "     but bootstrap.min.css set `[hidden] { display: none !important; }`\n",
       "     so we also need the `!important` here to be able to override the\n",
       "     default hidden behavior on the sphinx rendered scikit-learn.org.\n",
       "     See: https://github.com/scikit-learn/scikit-learn/issues/21755 */\n",
       "  display: inline-block !important;\n",
       "  position: relative;\n",
       "}\n",
       "\n",
       "#sk-container-id-1 div.sk-text-repr-fallback {\n",
       "  display: none;\n",
       "}\n",
       "\n",
       "div.sk-parallel-item,\n",
       "div.sk-serial,\n",
       "div.sk-item {\n",
       "  /* draw centered vertical line to link estimators */\n",
       "  background-image: linear-gradient(var(--sklearn-color-text-on-default-background), var(--sklearn-color-text-on-default-background));\n",
       "  background-size: 2px 100%;\n",
       "  background-repeat: no-repeat;\n",
       "  background-position: center center;\n",
       "}\n",
       "\n",
       "/* Parallel-specific style estimator block */\n",
       "\n",
       "#sk-container-id-1 div.sk-parallel-item::after {\n",
       "  content: \"\";\n",
       "  width: 100%;\n",
       "  border-bottom: 2px solid var(--sklearn-color-text-on-default-background);\n",
       "  flex-grow: 1;\n",
       "}\n",
       "\n",
       "#sk-container-id-1 div.sk-parallel {\n",
       "  display: flex;\n",
       "  align-items: stretch;\n",
       "  justify-content: center;\n",
       "  background-color: var(--sklearn-color-background);\n",
       "  position: relative;\n",
       "}\n",
       "\n",
       "#sk-container-id-1 div.sk-parallel-item {\n",
       "  display: flex;\n",
       "  flex-direction: column;\n",
       "}\n",
       "\n",
       "#sk-container-id-1 div.sk-parallel-item:first-child::after {\n",
       "  align-self: flex-end;\n",
       "  width: 50%;\n",
       "}\n",
       "\n",
       "#sk-container-id-1 div.sk-parallel-item:last-child::after {\n",
       "  align-self: flex-start;\n",
       "  width: 50%;\n",
       "}\n",
       "\n",
       "#sk-container-id-1 div.sk-parallel-item:only-child::after {\n",
       "  width: 0;\n",
       "}\n",
       "\n",
       "/* Serial-specific style estimator block */\n",
       "\n",
       "#sk-container-id-1 div.sk-serial {\n",
       "  display: flex;\n",
       "  flex-direction: column;\n",
       "  align-items: center;\n",
       "  background-color: var(--sklearn-color-background);\n",
       "  padding-right: 1em;\n",
       "  padding-left: 1em;\n",
       "}\n",
       "\n",
       "\n",
       "/* Toggleable style: style used for estimator/Pipeline/ColumnTransformer box that is\n",
       "clickable and can be expanded/collapsed.\n",
       "- Pipeline and ColumnTransformer use this feature and define the default style\n",
       "- Estimators will overwrite some part of the style using the `sk-estimator` class\n",
       "*/\n",
       "\n",
       "/* Pipeline and ColumnTransformer style (default) */\n",
       "\n",
       "#sk-container-id-1 div.sk-toggleable {\n",
       "  /* Default theme specific background. It is overwritten whether we have a\n",
       "  specific estimator or a Pipeline/ColumnTransformer */\n",
       "  background-color: var(--sklearn-color-background);\n",
       "}\n",
       "\n",
       "/* Toggleable label */\n",
       "#sk-container-id-1 label.sk-toggleable__label {\n",
       "  cursor: pointer;\n",
       "  display: flex;\n",
       "  width: 100%;\n",
       "  margin-bottom: 0;\n",
       "  padding: 0.5em;\n",
       "  box-sizing: border-box;\n",
       "  text-align: center;\n",
       "  align-items: start;\n",
       "  justify-content: space-between;\n",
       "  gap: 0.5em;\n",
       "}\n",
       "\n",
       "#sk-container-id-1 label.sk-toggleable__label .caption {\n",
       "  font-size: 0.6rem;\n",
       "  font-weight: lighter;\n",
       "  color: var(--sklearn-color-text-muted);\n",
       "}\n",
       "\n",
       "#sk-container-id-1 label.sk-toggleable__label-arrow:before {\n",
       "  /* Arrow on the left of the label */\n",
       "  content: \"▸\";\n",
       "  float: left;\n",
       "  margin-right: 0.25em;\n",
       "  color: var(--sklearn-color-icon);\n",
       "}\n",
       "\n",
       "#sk-container-id-1 label.sk-toggleable__label-arrow:hover:before {\n",
       "  color: var(--sklearn-color-text);\n",
       "}\n",
       "\n",
       "/* Toggleable content - dropdown */\n",
       "\n",
       "#sk-container-id-1 div.sk-toggleable__content {\n",
       "  max-height: 0;\n",
       "  max-width: 0;\n",
       "  overflow: hidden;\n",
       "  text-align: left;\n",
       "  /* unfitted */\n",
       "  background-color: var(--sklearn-color-unfitted-level-0);\n",
       "}\n",
       "\n",
       "#sk-container-id-1 div.sk-toggleable__content.fitted {\n",
       "  /* fitted */\n",
       "  background-color: var(--sklearn-color-fitted-level-0);\n",
       "}\n",
       "\n",
       "#sk-container-id-1 div.sk-toggleable__content pre {\n",
       "  margin: 0.2em;\n",
       "  border-radius: 0.25em;\n",
       "  color: var(--sklearn-color-text);\n",
       "  /* unfitted */\n",
       "  background-color: var(--sklearn-color-unfitted-level-0);\n",
       "}\n",
       "\n",
       "#sk-container-id-1 div.sk-toggleable__content.fitted pre {\n",
       "  /* unfitted */\n",
       "  background-color: var(--sklearn-color-fitted-level-0);\n",
       "}\n",
       "\n",
       "#sk-container-id-1 input.sk-toggleable__control:checked~div.sk-toggleable__content {\n",
       "  /* Expand drop-down */\n",
       "  max-height: 200px;\n",
       "  max-width: 100%;\n",
       "  overflow: auto;\n",
       "}\n",
       "\n",
       "#sk-container-id-1 input.sk-toggleable__control:checked~label.sk-toggleable__label-arrow:before {\n",
       "  content: \"▾\";\n",
       "}\n",
       "\n",
       "/* Pipeline/ColumnTransformer-specific style */\n",
       "\n",
       "#sk-container-id-1 div.sk-label input.sk-toggleable__control:checked~label.sk-toggleable__label {\n",
       "  color: var(--sklearn-color-text);\n",
       "  background-color: var(--sklearn-color-unfitted-level-2);\n",
       "}\n",
       "\n",
       "#sk-container-id-1 div.sk-label.fitted input.sk-toggleable__control:checked~label.sk-toggleable__label {\n",
       "  background-color: var(--sklearn-color-fitted-level-2);\n",
       "}\n",
       "\n",
       "/* Estimator-specific style */\n",
       "\n",
       "/* Colorize estimator box */\n",
       "#sk-container-id-1 div.sk-estimator input.sk-toggleable__control:checked~label.sk-toggleable__label {\n",
       "  /* unfitted */\n",
       "  background-color: var(--sklearn-color-unfitted-level-2);\n",
       "}\n",
       "\n",
       "#sk-container-id-1 div.sk-estimator.fitted input.sk-toggleable__control:checked~label.sk-toggleable__label {\n",
       "  /* fitted */\n",
       "  background-color: var(--sklearn-color-fitted-level-2);\n",
       "}\n",
       "\n",
       "#sk-container-id-1 div.sk-label label.sk-toggleable__label,\n",
       "#sk-container-id-1 div.sk-label label {\n",
       "  /* The background is the default theme color */\n",
       "  color: var(--sklearn-color-text-on-default-background);\n",
       "}\n",
       "\n",
       "/* On hover, darken the color of the background */\n",
       "#sk-container-id-1 div.sk-label:hover label.sk-toggleable__label {\n",
       "  color: var(--sklearn-color-text);\n",
       "  background-color: var(--sklearn-color-unfitted-level-2);\n",
       "}\n",
       "\n",
       "/* Label box, darken color on hover, fitted */\n",
       "#sk-container-id-1 div.sk-label.fitted:hover label.sk-toggleable__label.fitted {\n",
       "  color: var(--sklearn-color-text);\n",
       "  background-color: var(--sklearn-color-fitted-level-2);\n",
       "}\n",
       "\n",
       "/* Estimator label */\n",
       "\n",
       "#sk-container-id-1 div.sk-label label {\n",
       "  font-family: monospace;\n",
       "  font-weight: bold;\n",
       "  display: inline-block;\n",
       "  line-height: 1.2em;\n",
       "}\n",
       "\n",
       "#sk-container-id-1 div.sk-label-container {\n",
       "  text-align: center;\n",
       "}\n",
       "\n",
       "/* Estimator-specific */\n",
       "#sk-container-id-1 div.sk-estimator {\n",
       "  font-family: monospace;\n",
       "  border: 1px dotted var(--sklearn-color-border-box);\n",
       "  border-radius: 0.25em;\n",
       "  box-sizing: border-box;\n",
       "  margin-bottom: 0.5em;\n",
       "  /* unfitted */\n",
       "  background-color: var(--sklearn-color-unfitted-level-0);\n",
       "}\n",
       "\n",
       "#sk-container-id-1 div.sk-estimator.fitted {\n",
       "  /* fitted */\n",
       "  background-color: var(--sklearn-color-fitted-level-0);\n",
       "}\n",
       "\n",
       "/* on hover */\n",
       "#sk-container-id-1 div.sk-estimator:hover {\n",
       "  /* unfitted */\n",
       "  background-color: var(--sklearn-color-unfitted-level-2);\n",
       "}\n",
       "\n",
       "#sk-container-id-1 div.sk-estimator.fitted:hover {\n",
       "  /* fitted */\n",
       "  background-color: var(--sklearn-color-fitted-level-2);\n",
       "}\n",
       "\n",
       "/* Specification for estimator info (e.g. \"i\" and \"?\") */\n",
       "\n",
       "/* Common style for \"i\" and \"?\" */\n",
       "\n",
       ".sk-estimator-doc-link,\n",
       "a:link.sk-estimator-doc-link,\n",
       "a:visited.sk-estimator-doc-link {\n",
       "  float: right;\n",
       "  font-size: smaller;\n",
       "  line-height: 1em;\n",
       "  font-family: monospace;\n",
       "  background-color: var(--sklearn-color-background);\n",
       "  border-radius: 1em;\n",
       "  height: 1em;\n",
       "  width: 1em;\n",
       "  text-decoration: none !important;\n",
       "  margin-left: 0.5em;\n",
       "  text-align: center;\n",
       "  /* unfitted */\n",
       "  border: var(--sklearn-color-unfitted-level-1) 1pt solid;\n",
       "  color: var(--sklearn-color-unfitted-level-1);\n",
       "}\n",
       "\n",
       ".sk-estimator-doc-link.fitted,\n",
       "a:link.sk-estimator-doc-link.fitted,\n",
       "a:visited.sk-estimator-doc-link.fitted {\n",
       "  /* fitted */\n",
       "  border: var(--sklearn-color-fitted-level-1) 1pt solid;\n",
       "  color: var(--sklearn-color-fitted-level-1);\n",
       "}\n",
       "\n",
       "/* On hover */\n",
       "div.sk-estimator:hover .sk-estimator-doc-link:hover,\n",
       ".sk-estimator-doc-link:hover,\n",
       "div.sk-label-container:hover .sk-estimator-doc-link:hover,\n",
       ".sk-estimator-doc-link:hover {\n",
       "  /* unfitted */\n",
       "  background-color: var(--sklearn-color-unfitted-level-3);\n",
       "  color: var(--sklearn-color-background);\n",
       "  text-decoration: none;\n",
       "}\n",
       "\n",
       "div.sk-estimator.fitted:hover .sk-estimator-doc-link.fitted:hover,\n",
       ".sk-estimator-doc-link.fitted:hover,\n",
       "div.sk-label-container:hover .sk-estimator-doc-link.fitted:hover,\n",
       ".sk-estimator-doc-link.fitted:hover {\n",
       "  /* fitted */\n",
       "  background-color: var(--sklearn-color-fitted-level-3);\n",
       "  color: var(--sklearn-color-background);\n",
       "  text-decoration: none;\n",
       "}\n",
       "\n",
       "/* Span, style for the box shown on hovering the info icon */\n",
       ".sk-estimator-doc-link span {\n",
       "  display: none;\n",
       "  z-index: 9999;\n",
       "  position: relative;\n",
       "  font-weight: normal;\n",
       "  right: .2ex;\n",
       "  padding: .5ex;\n",
       "  margin: .5ex;\n",
       "  width: min-content;\n",
       "  min-width: 20ex;\n",
       "  max-width: 50ex;\n",
       "  color: var(--sklearn-color-text);\n",
       "  box-shadow: 2pt 2pt 4pt #999;\n",
       "  /* unfitted */\n",
       "  background: var(--sklearn-color-unfitted-level-0);\n",
       "  border: .5pt solid var(--sklearn-color-unfitted-level-3);\n",
       "}\n",
       "\n",
       ".sk-estimator-doc-link.fitted span {\n",
       "  /* fitted */\n",
       "  background: var(--sklearn-color-fitted-level-0);\n",
       "  border: var(--sklearn-color-fitted-level-3);\n",
       "}\n",
       "\n",
       ".sk-estimator-doc-link:hover span {\n",
       "  display: block;\n",
       "}\n",
       "\n",
       "/* \"?\"-specific style due to the `<a>` HTML tag */\n",
       "\n",
       "#sk-container-id-1 a.estimator_doc_link {\n",
       "  float: right;\n",
       "  font-size: 1rem;\n",
       "  line-height: 1em;\n",
       "  font-family: monospace;\n",
       "  background-color: var(--sklearn-color-background);\n",
       "  border-radius: 1rem;\n",
       "  height: 1rem;\n",
       "  width: 1rem;\n",
       "  text-decoration: none;\n",
       "  /* unfitted */\n",
       "  color: var(--sklearn-color-unfitted-level-1);\n",
       "  border: var(--sklearn-color-unfitted-level-1) 1pt solid;\n",
       "}\n",
       "\n",
       "#sk-container-id-1 a.estimator_doc_link.fitted {\n",
       "  /* fitted */\n",
       "  border: var(--sklearn-color-fitted-level-1) 1pt solid;\n",
       "  color: var(--sklearn-color-fitted-level-1);\n",
       "}\n",
       "\n",
       "/* On hover */\n",
       "#sk-container-id-1 a.estimator_doc_link:hover {\n",
       "  /* unfitted */\n",
       "  background-color: var(--sklearn-color-unfitted-level-3);\n",
       "  color: var(--sklearn-color-background);\n",
       "  text-decoration: none;\n",
       "}\n",
       "\n",
       "#sk-container-id-1 a.estimator_doc_link.fitted:hover {\n",
       "  /* fitted */\n",
       "  background-color: var(--sklearn-color-fitted-level-3);\n",
       "}\n",
       "</style><div id=\"sk-container-id-1\" class=\"sk-top-container\"><div class=\"sk-text-repr-fallback\"><pre>RandomizedSearchCV(cv=5, estimator=RandomForestClassifier(), n_iter=50,\n",
       "                   n_jobs=-1,\n",
       "                   param_distributions={&#x27;criterion&#x27;: [&#x27;gini&#x27;, &#x27;entropy&#x27;],\n",
       "                                        &#x27;max_depth&#x27;: [None, 3, 5, 10, 15],\n",
       "                                        &#x27;max_features&#x27;: [&#x27;auto&#x27;, &#x27;sqrt&#x27;,\n",
       "                                                         &#x27;log2&#x27;],\n",
       "                                        &#x27;min_samples_leaf&#x27;: array([ 1,  3,  5,  7,  9, 11, 13, 15, 17, 19]),\n",
       "                                        &#x27;min_samples_split&#x27;: array([ 2,  4,  6,  8, 10, 12, 14, 16, 18]),\n",
       "                                        &#x27;n_estimators&#x27;: array([10, 15, 20, 25, 30, 35, 40, 45, 50, 55, 60, 65, 70, 75, 80, 85, 90,\n",
       "       95])},\n",
       "                   scoring=&#x27;accuracy&#x27;, verbose=10)</pre><b>In a Jupyter environment, please rerun this cell to show the HTML representation or trust the notebook. <br />On GitHub, the HTML representation is unable to render, please try loading this page with nbviewer.org.</b></div><div class=\"sk-container\" hidden><div class=\"sk-item sk-dashed-wrapped\"><div class=\"sk-label-container\"><div class=\"sk-label fitted sk-toggleable\"><input class=\"sk-toggleable__control sk-hidden--visually\" id=\"sk-estimator-id-1\" type=\"checkbox\" ><label for=\"sk-estimator-id-1\" class=\"sk-toggleable__label fitted sk-toggleable__label-arrow\"><div><div>RandomizedSearchCV</div></div><div><a class=\"sk-estimator-doc-link fitted\" rel=\"noreferrer\" target=\"_blank\" href=\"https://scikit-learn.org/1.6/modules/generated/sklearn.model_selection.RandomizedSearchCV.html\">?<span>Documentation for RandomizedSearchCV</span></a><span class=\"sk-estimator-doc-link fitted\">i<span>Fitted</span></span></div></label><div class=\"sk-toggleable__content fitted\"><pre>RandomizedSearchCV(cv=5, estimator=RandomForestClassifier(), n_iter=50,\n",
       "                   n_jobs=-1,\n",
       "                   param_distributions={&#x27;criterion&#x27;: [&#x27;gini&#x27;, &#x27;entropy&#x27;],\n",
       "                                        &#x27;max_depth&#x27;: [None, 3, 5, 10, 15],\n",
       "                                        &#x27;max_features&#x27;: [&#x27;auto&#x27;, &#x27;sqrt&#x27;,\n",
       "                                                         &#x27;log2&#x27;],\n",
       "                                        &#x27;min_samples_leaf&#x27;: array([ 1,  3,  5,  7,  9, 11, 13, 15, 17, 19]),\n",
       "                                        &#x27;min_samples_split&#x27;: array([ 2,  4,  6,  8, 10, 12, 14, 16, 18]),\n",
       "                                        &#x27;n_estimators&#x27;: array([10, 15, 20, 25, 30, 35, 40, 45, 50, 55, 60, 65, 70, 75, 80, 85, 90,\n",
       "       95])},\n",
       "                   scoring=&#x27;accuracy&#x27;, verbose=10)</pre></div> </div></div><div class=\"sk-parallel\"><div class=\"sk-parallel-item\"><div class=\"sk-item\"><div class=\"sk-label-container\"><div class=\"sk-label fitted sk-toggleable\"><input class=\"sk-toggleable__control sk-hidden--visually\" id=\"sk-estimator-id-2\" type=\"checkbox\" ><label for=\"sk-estimator-id-2\" class=\"sk-toggleable__label fitted sk-toggleable__label-arrow\"><div><div>best_estimator_: RandomForestClassifier</div></div></label><div class=\"sk-toggleable__content fitted\"><pre>RandomForestClassifier(criterion=&#x27;entropy&#x27;, min_samples_split=8,\n",
       "                       n_estimators=55)</pre></div> </div></div><div class=\"sk-serial\"><div class=\"sk-item\"><div class=\"sk-estimator fitted sk-toggleable\"><input class=\"sk-toggleable__control sk-hidden--visually\" id=\"sk-estimator-id-3\" type=\"checkbox\" ><label for=\"sk-estimator-id-3\" class=\"sk-toggleable__label fitted sk-toggleable__label-arrow\"><div><div>RandomForestClassifier</div></div><div><a class=\"sk-estimator-doc-link fitted\" rel=\"noreferrer\" target=\"_blank\" href=\"https://scikit-learn.org/1.6/modules/generated/sklearn.ensemble.RandomForestClassifier.html\">?<span>Documentation for RandomForestClassifier</span></a></div></label><div class=\"sk-toggleable__content fitted\"><pre>RandomForestClassifier(criterion=&#x27;entropy&#x27;, min_samples_split=8,\n",
       "                       n_estimators=55)</pre></div> </div></div></div></div></div></div></div></div></div>"
      ]
     },
     "execution_count": 27,
     "metadata": {},
     "output_type": "execute_result"
    }
   ],
   "execution_count": 27
  },
  {
   "metadata": {},
   "cell_type": "markdown",
   "source": "## Evaluate the model",
   "id": "7de308f911468bb"
  },
  {
   "metadata": {
    "ExecuteTime": {
     "end_time": "2025-03-28T04:13:57.180899Z",
     "start_time": "2025-03-28T04:13:57.170900Z"
    }
   },
   "cell_type": "code",
   "source": [
    "# Get the best hyperparameters\n",
    "search.best_params_\n"
   ],
   "id": "7460ff5d0ed3ac3c",
   "outputs": [
    {
     "data": {
      "text/plain": [
       "{'n_estimators': 55,\n",
       " 'min_samples_split': 8,\n",
       " 'min_samples_leaf': 1,\n",
       " 'max_features': 'sqrt',\n",
       " 'max_depth': None,\n",
       " 'criterion': 'entropy'}"
      ]
     },
     "execution_count": 28,
     "metadata": {},
     "output_type": "execute_result"
    }
   ],
   "execution_count": 28
  },
  {
   "metadata": {
    "ExecuteTime": {
     "end_time": "2025-03-28T04:13:57.290038Z",
     "start_time": "2025-03-28T04:13:57.245930Z"
    }
   },
   "cell_type": "code",
   "source": [
    "\n",
    "#best training score and test score\n",
    "print(f\"Best training score: {search.best_score_}\")\n",
    "print(f\"Test score: {search.score(X_test, y_test)}\")\n"
   ],
   "id": "bc0c55adff7e3441",
   "outputs": [
    {
     "name": "stdout",
     "output_type": "stream",
     "text": [
      "Best training score: 0.8629612934959852\n",
      "Test score: 0.8622773536895675\n"
     ]
    }
   ],
   "execution_count": 29
  }
 ],
 "metadata": {
  "colab": {
   "name": "Welcome to DataCamp Workspaces.ipynb",
   "provenance": []
  },
  "kernelspec": {
   "display_name": "Python 3 (ipykernel)",
   "language": "python",
   "name": "python3"
  },
  "language_info": {
   "codemirror_mode": {
    "name": "ipython",
    "version": 3
   },
   "file_extension": ".py",
   "mimetype": "text/x-python",
   "name": "python",
   "nbconvert_exporter": "python",
   "pygments_lexer": "ipython3",
   "version": "3.10.12"
  }
 },
 "nbformat": 4,
 "nbformat_minor": 5
}
